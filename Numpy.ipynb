{
  "nbformat": 4,
  "nbformat_minor": 0,
  "metadata": {
    "colab": {
      "provenance": [],
      "authorship_tag": "ABX9TyNpUNkHwyE7O8QU9IRyyihe",
      "include_colab_link": true
    },
    "kernelspec": {
      "name": "python3",
      "display_name": "Python 3"
    },
    "language_info": {
      "name": "python"
    }
  },
  "cells": [
    {
      "cell_type": "markdown",
      "metadata": {
        "id": "view-in-github",
        "colab_type": "text"
      },
      "source": [
        "<a href=\"https://colab.research.google.com/github/AdityaPatil1705/Python/blob/main/Numpy.ipynb\" target=\"_parent\"><img src=\"https://colab.research.google.com/assets/colab-badge.svg\" alt=\"Open In Colab\"/></a>"
      ]
    },
    {
      "cell_type": "markdown",
      "source": [
        "**What is NumPy?**\n",
        "\n",
        "1. NumPy is a Python library used for working with arrays.\n",
        "\n",
        "2. It also has functions for working in domain of linear algebra, fourier transform, and matrices.\n",
        "\n",
        "3. NumPy stands for Numerical Python."
      ],
      "metadata": {
        "id": "3uiyNkRnvQOJ"
      }
    },
    {
      "cell_type": "markdown",
      "source": [
        "**Why Use NumPy?**\n",
        "\n",
        "1. In Python we have lists that serve the purpose of arrays, but they are slow to process.\n",
        "\n",
        "2. NumPy aims to provide an array object that is up to 50x faster than traditional Python lists.\n",
        "\n",
        "3. The array object in NumPy is called ndarray, it provides a lot of supporting functions that make working with ndarray very easy.\n",
        "\n",
        "4. Arrays are very frequently used in data science, where speed and resources are very important."
      ],
      "metadata": {
        "id": "soJEIG3fvgal"
      }
    },
    {
      "cell_type": "code",
      "execution_count": 1,
      "metadata": {
        "id": "e_ZRXukX_51s"
      },
      "outputs": [],
      "source": [
        "import numpy as np"
      ]
    },
    {
      "cell_type": "code",
      "source": [
        "print(np.__version__)"
      ],
      "metadata": {
        "colab": {
          "base_uri": "https://localhost:8080/"
        },
        "id": "ig7FOnybv3NN",
        "outputId": "489af8e3-57eb-4772-9091-a1616a8a53a0"
      },
      "execution_count": 2,
      "outputs": [
        {
          "output_type": "stream",
          "name": "stdout",
          "text": [
            "1.26.4\n"
          ]
        }
      ]
    },
    {
      "cell_type": "markdown",
      "source": [
        "**Array Creation**"
      ],
      "metadata": {
        "id": "6T2Wnbu3xWNn"
      }
    },
    {
      "cell_type": "code",
      "source": [
        "#0D Array\n",
        "arr = np.array(45)\n",
        "print(arr)\n",
        "print(\"Dimensions: \",arr.ndim)\n",
        "print(type(arr))"
      ],
      "metadata": {
        "colab": {
          "base_uri": "https://localhost:8080/"
        },
        "id": "ZPLWNN7jv6Io",
        "outputId": "ebb42053-18f8-418a-ef84-e479cd8c6d69"
      },
      "execution_count": 3,
      "outputs": [
        {
          "output_type": "stream",
          "name": "stdout",
          "text": [
            "45\n",
            "Dimensions:  0\n",
            "<class 'numpy.ndarray'>\n"
          ]
        }
      ]
    },
    {
      "cell_type": "code",
      "source": [
        "#1D Array\n",
        "arr = np.array([23,45,67,77])\n",
        "print(\"Dimensions: \",arr.ndim)\n",
        "print(arr)"
      ],
      "metadata": {
        "colab": {
          "base_uri": "https://localhost:8080/"
        },
        "id": "kZ27tCqZwKSN",
        "outputId": "d8bf4dff-fc7b-4da2-9156-440b0339bb80"
      },
      "execution_count": 4,
      "outputs": [
        {
          "output_type": "stream",
          "name": "stdout",
          "text": [
            "Dimensions:  1\n",
            "[23 45 67 77]\n"
          ]
        }
      ]
    },
    {
      "cell_type": "code",
      "source": [
        "#2D Array\n",
        "arr = np.array([[23,45,67,77],[56,88,25,78]])\n",
        "print(\"Dimensions: \",arr.ndim)\n",
        "print(arr)"
      ],
      "metadata": {
        "colab": {
          "base_uri": "https://localhost:8080/"
        },
        "id": "xm3jIPO_wTlb",
        "outputId": "29980a67-ad62-4786-9cae-07c24c92027a"
      },
      "execution_count": 5,
      "outputs": [
        {
          "output_type": "stream",
          "name": "stdout",
          "text": [
            "Dimensions:  2\n",
            "[[23 45 67 77]\n",
            " [56 88 25 78]]\n"
          ]
        }
      ]
    },
    {
      "cell_type": "code",
      "source": [
        "#3D Array\n",
        "arr = np.array([[[23,45,67,77],[56,88,25,78]],[[65,84,92,45],[97,54,21,44]]])\n",
        "print(\"Dimensions: \",arr.ndim)\n",
        "print(arr)"
      ],
      "metadata": {
        "colab": {
          "base_uri": "https://localhost:8080/"
        },
        "id": "uElbp8I3wu23",
        "outputId": "4d84858a-66be-4320-d11e-d4782f34bd7b"
      },
      "execution_count": 6,
      "outputs": [
        {
          "output_type": "stream",
          "name": "stdout",
          "text": [
            "Dimensions:  3\n",
            "[[[23 45 67 77]\n",
            "  [56 88 25 78]]\n",
            "\n",
            " [[65 84 92 45]\n",
            "  [97 54 21 44]]]\n"
          ]
        }
      ]
    },
    {
      "cell_type": "markdown",
      "source": [
        "When the array is created, you can define the number of dimensions by using the ndmin argument."
      ],
      "metadata": {
        "id": "KH-7ZEmvxjdM"
      }
    },
    {
      "cell_type": "code",
      "source": [
        "arr = np.array([54,87,98,77,54],ndmin=5)\n",
        "print(\"Dimensions: \",arr.ndim)\n",
        "print(arr)"
      ],
      "metadata": {
        "colab": {
          "base_uri": "https://localhost:8080/"
        },
        "id": "efr1i12CxFKj",
        "outputId": "13e798a6-447f-4b10-fd55-153c1199b89e"
      },
      "execution_count": 7,
      "outputs": [
        {
          "output_type": "stream",
          "name": "stdout",
          "text": [
            "Dimensions:  5\n",
            "[[[[[54 87 98 77 54]]]]]\n"
          ]
        }
      ]
    },
    {
      "cell_type": "markdown",
      "source": [
        "**Accessing Elements**"
      ],
      "metadata": {
        "id": "YmbZK3d-yO0K"
      }
    },
    {
      "cell_type": "code",
      "source": [
        "arr = np.array([23,45,67,77])\n",
        "print(arr[2])"
      ],
      "metadata": {
        "colab": {
          "base_uri": "https://localhost:8080/"
        },
        "id": "pQ4UUWbcx2e_",
        "outputId": "5e41bec1-4c53-44e2-c92b-f3dae3cbd5d9"
      },
      "execution_count": 8,
      "outputs": [
        {
          "output_type": "stream",
          "name": "stdout",
          "text": [
            "67\n"
          ]
        }
      ]
    },
    {
      "cell_type": "code",
      "source": [
        "arr = np.array([[[23,45,67,77],[56,88,25,78]],[[65,84,92,45],[97,54,21,44]]])\n",
        "print(arr)\n",
        "print(\"Accessing 1st element from 3rd array from 2nd Array: \",arr[1,0,0])"
      ],
      "metadata": {
        "colab": {
          "base_uri": "https://localhost:8080/"
        },
        "id": "DZ-iRR-GyaoU",
        "outputId": "ec27e673-0fc5-4b94-be27-caec6aec97e6"
      },
      "execution_count": 9,
      "outputs": [
        {
          "output_type": "stream",
          "name": "stdout",
          "text": [
            "[[[23 45 67 77]\n",
            "  [56 88 25 78]]\n",
            "\n",
            " [[65 84 92 45]\n",
            "  [97 54 21 44]]]\n",
            "Accessing 1st element from 3rd array from 2nd Array:  65\n"
          ]
        }
      ]
    },
    {
      "cell_type": "code",
      "source": [
        "arr = np.array([[1,2,3,4,5], [6,7,8,9,10]])\n",
        "print('Last element from 2nd dim: ', arr[1, -1])"
      ],
      "metadata": {
        "colab": {
          "base_uri": "https://localhost:8080/"
        },
        "id": "N5ogFEa8yvJJ",
        "outputId": "58ddaa12-3d3d-4602-9fee-bf5cf5c8be3f"
      },
      "execution_count": 10,
      "outputs": [
        {
          "output_type": "stream",
          "name": "stdout",
          "text": [
            "Last element from 2nd dim:  10\n"
          ]
        }
      ]
    },
    {
      "cell_type": "markdown",
      "source": [
        "**Slicing**"
      ],
      "metadata": {
        "id": "4qkzxc1p1EoF"
      }
    },
    {
      "cell_type": "code",
      "source": [
        "arr = np.array([1, 2, 3, 4, 5, 6, 7])\n",
        "print(arr[1:5])"
      ],
      "metadata": {
        "colab": {
          "base_uri": "https://localhost:8080/"
        },
        "id": "-ErRIe7mz56s",
        "outputId": "afb43e13-dac7-4994-883f-0ef09cbddbb3"
      },
      "execution_count": 11,
      "outputs": [
        {
          "output_type": "stream",
          "name": "stdout",
          "text": [
            "[2 3 4 5]\n"
          ]
        }
      ]
    },
    {
      "cell_type": "code",
      "source": [
        "arr = np.array([1, 2, 3, 4, 5, 6, 7])    #Step\n",
        "print(arr[1:5:2])"
      ],
      "metadata": {
        "colab": {
          "base_uri": "https://localhost:8080/"
        },
        "id": "eMdThdyb1IBP",
        "outputId": "38559ee7-04c9-4ea3-95fc-643af2e2dfff"
      },
      "execution_count": 12,
      "outputs": [
        {
          "output_type": "stream",
          "name": "stdout",
          "text": [
            "[2 4]\n"
          ]
        }
      ]
    },
    {
      "cell_type": "code",
      "source": [
        "#From the second element, slice elements from index 1 to index 4\n",
        "arr = np.array([[1, 2, 3, 4, 5], [6, 7, 8, 9, 10]])\n",
        "print(arr[1, 1:4])"
      ],
      "metadata": {
        "colab": {
          "base_uri": "https://localhost:8080/"
        },
        "id": "OdfuKeTh1OLj",
        "outputId": "880945a3-a50f-41fc-da25-b0936ee31244"
      },
      "execution_count": 13,
      "outputs": [
        {
          "output_type": "stream",
          "name": "stdout",
          "text": [
            "[7 8 9]\n"
          ]
        }
      ]
    },
    {
      "cell_type": "code",
      "source": [
        "#From both elements, return index 2:\n",
        "arr = np.array([[1, 2, 3, 4, 5], [6, 7, 8, 9, 10]])\n",
        "print(arr[0:2, 2])"
      ],
      "metadata": {
        "colab": {
          "base_uri": "https://localhost:8080/"
        },
        "id": "s4tKZrS31fqF",
        "outputId": "055abfb5-787f-4d5c-ed2d-595bb3426da0"
      },
      "execution_count": 14,
      "outputs": [
        {
          "output_type": "stream",
          "name": "stdout",
          "text": [
            "[3 8]\n"
          ]
        }
      ]
    },
    {
      "cell_type": "code",
      "source": [
        "arr = np.array([[1, 2, 3, 4, 5], [6, 7, 8, 9, 10]])\n",
        "print(arr[0:2, 1:4])"
      ],
      "metadata": {
        "colab": {
          "base_uri": "https://localhost:8080/"
        },
        "id": "ipI88lCr1p6u",
        "outputId": "7b5981e0-f923-4a87-ef0e-de8aca333e84"
      },
      "execution_count": 15,
      "outputs": [
        {
          "output_type": "stream",
          "name": "stdout",
          "text": [
            "[[2 3 4]\n",
            " [7 8 9]]\n"
          ]
        }
      ]
    },
    {
      "cell_type": "markdown",
      "source": [
        "**Datatype**\n",
        "\n",
        "1. i = integer\n",
        "2. b = boolean\n",
        "3. f = float\n",
        "4. S = String\n",
        "5. U = Unicode String"
      ],
      "metadata": {
        "id": "SLbDzdpU2rY2"
      }
    },
    {
      "cell_type": "code",
      "source": [
        "arr = np.array([1, 2, 3, 4])\n",
        "print(arr.dtype)"
      ],
      "metadata": {
        "colab": {
          "base_uri": "https://localhost:8080/"
        },
        "id": "Dnd_0b3y1u2H",
        "outputId": "2bc05663-0c6c-44dc-929c-7175217598a4"
      },
      "execution_count": 16,
      "outputs": [
        {
          "output_type": "stream",
          "name": "stdout",
          "text": [
            "int64\n"
          ]
        }
      ]
    },
    {
      "cell_type": "markdown",
      "source": [
        "We use the array() function to create arrays, this function can take an optional argument: dtype that allows us to define the expected data type of the array elements:"
      ],
      "metadata": {
        "id": "Xq_IGzbF3l7b"
      }
    },
    {
      "cell_type": "code",
      "source": [
        "arr = np.array([1, 2, 3, 4], dtype='S')\n",
        "print(arr)\n",
        "print(arr.dtype)"
      ],
      "metadata": {
        "colab": {
          "base_uri": "https://localhost:8080/"
        },
        "id": "SsMxkGYN3Isf",
        "outputId": "e449b5a0-6d98-4359-becf-630ba4798401"
      },
      "execution_count": 17,
      "outputs": [
        {
          "output_type": "stream",
          "name": "stdout",
          "text": [
            "[b'1' b'2' b'3' b'4']\n",
            "|S1\n"
          ]
        }
      ]
    },
    {
      "cell_type": "markdown",
      "source": [
        "Converting Data Type on Existing Arrays\n",
        "\n",
        "1. The best way to change the data type of an existing array, is to make a copy of the array with the astype() method.\n",
        "\n",
        "2. The astype() function creates a copy of the array, and allows you to specify the data type as a parameter.\n",
        "\n",
        "3. The data type can be specified using a string, like 'f' for float, 'i' for integer etc. or you can use the data type directly like float for float and int for integer."
      ],
      "metadata": {
        "id": "P9jnOUnT3r7b"
      }
    },
    {
      "cell_type": "code",
      "source": [
        "arr = np.array([0,1,1,0,5,0,0,8,7])\n",
        "print(arr.dtype)\n",
        "\n",
        "arrCopy = arr.astype(bool)\n",
        "print(arrCopy)\n",
        "print(arrCopy.dtype)"
      ],
      "metadata": {
        "colab": {
          "base_uri": "https://localhost:8080/"
        },
        "id": "gTl0Wnm_3h4c",
        "outputId": "84bcd1f6-3615-4539-dc18-21b7499dee92"
      },
      "execution_count": 18,
      "outputs": [
        {
          "output_type": "stream",
          "name": "stdout",
          "text": [
            "int64\n",
            "[False  True  True False  True False False  True  True]\n",
            "bool\n"
          ]
        }
      ]
    },
    {
      "cell_type": "code",
      "source": [
        "arr = np.array([1.1, 2.1, 3.7])\n",
        "newarr = arr.astype(\"i\")\n",
        "print(newarr)\n",
        "print(newarr.dtype)"
      ],
      "metadata": {
        "colab": {
          "base_uri": "https://localhost:8080/"
        },
        "id": "9eKZA_B74JGO",
        "outputId": "921f602e-2ff8-4163-9d49-47b9ebae5761"
      },
      "execution_count": 19,
      "outputs": [
        {
          "output_type": "stream",
          "name": "stdout",
          "text": [
            "[1 2 3]\n",
            "int32\n"
          ]
        }
      ]
    },
    {
      "cell_type": "markdown",
      "source": [
        "The Difference Between Copy and View\n",
        "\n",
        "1. The main difference between a copy and a view of an array is that the copy is a new array, and the view is just a view of the original array.\n",
        "\n",
        "2. The copy owns the data and any changes made to the copy will not affect original array, and any changes made to the original array will not affect the copy.\n",
        "\n",
        "3. The view does not own the data and any changes made to the view will affect the original array, and any changes made to the original array will affect the view."
      ],
      "metadata": {
        "id": "zZjsupVilo8S"
      }
    },
    {
      "cell_type": "code",
      "source": [
        "arr = np.array([1,2,3,4,5,6])\n",
        "print(arr)\n",
        "\n",
        "copied = arr.copy()\n",
        "copied[0] = 40\n",
        "print(copied)"
      ],
      "metadata": {
        "id": "--T6B2M94T4P",
        "colab": {
          "base_uri": "https://localhost:8080/"
        },
        "outputId": "69787f97-cf1d-4a01-890e-877bb98eb459"
      },
      "execution_count": 20,
      "outputs": [
        {
          "output_type": "stream",
          "name": "stdout",
          "text": [
            "[1 2 3 4 5 6]\n",
            "[40  2  3  4  5  6]\n"
          ]
        }
      ]
    },
    {
      "cell_type": "code",
      "source": [
        "arr = np.array([1,2,3,4,5])\n",
        "x = arr.view()\n",
        "\n",
        "arr[0] = 50\n",
        "print(arr)\n",
        "print(x)"
      ],
      "metadata": {
        "colab": {
          "base_uri": "https://localhost:8080/"
        },
        "id": "8In9HxMbmJEo",
        "outputId": "eb723a80-867a-4c10-c16b-d023d4066eb6"
      },
      "execution_count": 21,
      "outputs": [
        {
          "output_type": "stream",
          "name": "stdout",
          "text": [
            "[50  2  3  4  5]\n",
            "[50  2  3  4  5]\n"
          ]
        }
      ]
    },
    {
      "cell_type": "markdown",
      "source": [
        "Every NumPy array has the attribute base that returns None if the array owns the data."
      ],
      "metadata": {
        "id": "chA3HF-bm1YQ"
      }
    },
    {
      "cell_type": "code",
      "source": [
        "arr = np.array([1,2,3,4,5])\n",
        "\n",
        "x = arr.view()\n",
        "y = arr.copy()\n",
        "\n",
        "print(x.base)\n",
        "print(y.base)"
      ],
      "metadata": {
        "colab": {
          "base_uri": "https://localhost:8080/"
        },
        "id": "D7J9mOoomruL",
        "outputId": "e266033d-3b61-4b7f-ec1c-b480f65d6777"
      },
      "execution_count": 22,
      "outputs": [
        {
          "output_type": "stream",
          "name": "stdout",
          "text": [
            "[1 2 3 4 5]\n",
            "None\n"
          ]
        }
      ]
    },
    {
      "cell_type": "markdown",
      "source": [
        "**Shape of an Array**\n",
        "\n",
        "The shape of an array is the number of elements in each dimension."
      ],
      "metadata": {
        "id": "6EjjZcNIneCC"
      }
    },
    {
      "cell_type": "code",
      "source": [
        "arr = np.array([[1,2,3,4],[5,6,7,8]])\n",
        "print(arr.ndim)\n",
        "print(arr.shape)"
      ],
      "metadata": {
        "colab": {
          "base_uri": "https://localhost:8080/"
        },
        "id": "-H5TbW8DnEGj",
        "outputId": "0d5a17ca-003c-42ee-ba48-e49c00c8867d"
      },
      "execution_count": 23,
      "outputs": [
        {
          "output_type": "stream",
          "name": "stdout",
          "text": [
            "2\n",
            "(2, 4)\n"
          ]
        }
      ]
    },
    {
      "cell_type": "code",
      "source": [
        "arr = np.array([1,2,3],ndmin=5)\n",
        "print(arr)\n",
        "print(arr.shape)"
      ],
      "metadata": {
        "colab": {
          "base_uri": "https://localhost:8080/"
        },
        "id": "2M5MFaG7nrnF",
        "outputId": "eb3b83ef-09e6-4497-e855-e1ed4d0e04bc"
      },
      "execution_count": 24,
      "outputs": [
        {
          "output_type": "stream",
          "name": "stdout",
          "text": [
            "[[[[[1 2 3]]]]]\n",
            "(1, 1, 1, 1, 3)\n"
          ]
        }
      ]
    },
    {
      "cell_type": "markdown",
      "source": [
        "**Reshaping arrays**\n",
        "\n",
        "1. Reshaping means changing the shape of an array.\n",
        "\n",
        "2. The shape of an array is the number of elements in each dimension.\n",
        "\n",
        "3. By reshaping we can add or remove dimensions or change number of elements in each dimension."
      ],
      "metadata": {
        "id": "lNLVXsWFpMWu"
      }
    },
    {
      "cell_type": "code",
      "source": [
        "arr = np.array([1,2,3,4,5,6,7,8,9,10])\n",
        "x = arr.reshape(2,5)\n",
        "\n",
        "print(arr)\n",
        "print(\"Dimension: \",arr.ndim)\n",
        "print(x)\n",
        "print(\"Dimension: \",x.ndim)"
      ],
      "metadata": {
        "colab": {
          "base_uri": "https://localhost:8080/"
        },
        "id": "VSBsSuGzn7JO",
        "outputId": "10da66ab-258a-4947-8549-e6b40edfc40d"
      },
      "execution_count": 25,
      "outputs": [
        {
          "output_type": "stream",
          "name": "stdout",
          "text": [
            "[ 1  2  3  4  5  6  7  8  9 10]\n",
            "Dimension:  1\n",
            "[[ 1  2  3  4  5]\n",
            " [ 6  7  8  9 10]]\n",
            "Dimension:  2\n"
          ]
        }
      ]
    },
    {
      "cell_type": "code",
      "source": [
        "arr = np.array([1, 2, 3, 4, 5, 6, 7, 8, 9, 10, 11, 12])\n",
        "newarr = arr.reshape(2, 3, 2)\n",
        "print(newarr)"
      ],
      "metadata": {
        "colab": {
          "base_uri": "https://localhost:8080/"
        },
        "id": "PT1oB9axpyqo",
        "outputId": "97c92906-0e59-4888-e0cd-7c4d674bfad1"
      },
      "execution_count": 26,
      "outputs": [
        {
          "output_type": "stream",
          "name": "stdout",
          "text": [
            "[[[ 1  2]\n",
            "  [ 3  4]\n",
            "  [ 5  6]]\n",
            "\n",
            " [[ 7  8]\n",
            "  [ 9 10]\n",
            "  [11 12]]]\n"
          ]
        }
      ]
    },
    {
      "cell_type": "code",
      "source": [
        "arr = np.array([1, 2, 3, 4, 5, 6, 7, 8])\n",
        "print(arr.reshape(2, 4).base)"
      ],
      "metadata": {
        "colab": {
          "base_uri": "https://localhost:8080/"
        },
        "id": "95IIWv64qYvX",
        "outputId": "ab02e0f8-816a-4c60-dd4c-4cd87ed57b26"
      },
      "execution_count": 27,
      "outputs": [
        {
          "output_type": "stream",
          "name": "stdout",
          "text": [
            "[1 2 3 4 5 6 7 8]\n"
          ]
        }
      ]
    },
    {
      "cell_type": "markdown",
      "source": [
        "Unknown Dimension\n",
        "\n",
        "You are allowed to have one \"unknown\" dimension.\n",
        "\n",
        "Meaning that you do not have to specify an exact number for one of the dimensions in the reshape method.\n",
        "\n",
        "Pass -1 as the value, and NumPy will calculate this number for you."
      ],
      "metadata": {
        "id": "JWVIvIiVq6q6"
      }
    },
    {
      "cell_type": "code",
      "source": [
        "arr = np.array([1, 2, 3, 4, 5, 6, 7, 8])\n",
        "newarr = arr.reshape(2, 2, -1)\n",
        "print(newarr)"
      ],
      "metadata": {
        "colab": {
          "base_uri": "https://localhost:8080/"
        },
        "id": "1QwA31GGqg0J",
        "outputId": "54924bdf-3182-4d57-be63-321d32d8d99a"
      },
      "execution_count": 28,
      "outputs": [
        {
          "output_type": "stream",
          "name": "stdout",
          "text": [
            "[[[1 2]\n",
            "  [3 4]]\n",
            "\n",
            " [[5 6]\n",
            "  [7 8]]]\n"
          ]
        }
      ]
    },
    {
      "cell_type": "code",
      "source": [
        "arr = np.array([[1, 2, 3], [4, 5, 6]])\n",
        "newarr = arr.reshape(-1)\n",
        "print(newarr)"
      ],
      "metadata": {
        "colab": {
          "base_uri": "https://localhost:8080/"
        },
        "id": "Z2arhME-rACz",
        "outputId": "e5a5cf9f-53a6-4b11-a80e-58db2d1aa8ee"
      },
      "execution_count": 29,
      "outputs": [
        {
          "output_type": "stream",
          "name": "stdout",
          "text": [
            "[1 2 3 4 5 6]\n"
          ]
        }
      ]
    },
    {
      "cell_type": "markdown",
      "source": [
        "**Iterating Arrays**"
      ],
      "metadata": {
        "id": "olkzWtnJs-fS"
      }
    },
    {
      "cell_type": "code",
      "source": [
        "arr = np.array([1,2,3,4,5,6,7,8])\n",
        "for x in arr:\n",
        "  print(x)"
      ],
      "metadata": {
        "colab": {
          "base_uri": "https://localhost:8080/"
        },
        "id": "w4TB_vqQrGpQ",
        "outputId": "dc08516d-9570-43e5-bb22-26df4dc56f4e"
      },
      "execution_count": 30,
      "outputs": [
        {
          "output_type": "stream",
          "name": "stdout",
          "text": [
            "1\n",
            "2\n",
            "3\n",
            "4\n",
            "5\n",
            "6\n",
            "7\n",
            "8\n"
          ]
        }
      ]
    },
    {
      "cell_type": "code",
      "source": [
        "arr = np.array([[1,2,3],[4,5,6]])\n",
        "for x in arr:\n",
        "  print(x)\n",
        "\n",
        "#2nd way\n",
        "print(\"Another Way For Scaler\")\n",
        "for x in arr:\n",
        "  for y in x:\n",
        "    print(y)"
      ],
      "metadata": {
        "colab": {
          "base_uri": "https://localhost:8080/"
        },
        "id": "F6KZIM_DtHeC",
        "outputId": "45382c72-d3c6-46ce-c897-ad9aaa378bea"
      },
      "execution_count": 31,
      "outputs": [
        {
          "output_type": "stream",
          "name": "stdout",
          "text": [
            "[1 2 3]\n",
            "[4 5 6]\n",
            "Another Way For Scaler\n",
            "1\n",
            "2\n",
            "3\n",
            "4\n",
            "5\n",
            "6\n"
          ]
        }
      ]
    },
    {
      "cell_type": "code",
      "source": [
        "arr = np.array([[[1,2,3],[4,5,6]],[[7,8,9],[10,11,12]]])\n",
        "for x in arr:\n",
        "  print(x)\n",
        "\n",
        "#2nd way\n",
        "print(\"Another Way For Scaler\")\n",
        "for x in arr:\n",
        "  for y in x:\n",
        "    for z in y:\n",
        "      print(z)"
      ],
      "metadata": {
        "colab": {
          "base_uri": "https://localhost:8080/"
        },
        "id": "SHjuB7eqtkca",
        "outputId": "6729f779-6568-41ca-c7bb-dd86c396b5bf"
      },
      "execution_count": 32,
      "outputs": [
        {
          "output_type": "stream",
          "name": "stdout",
          "text": [
            "[[1 2 3]\n",
            " [4 5 6]]\n",
            "[[ 7  8  9]\n",
            " [10 11 12]]\n",
            "Another Way For Scaler\n",
            "1\n",
            "2\n",
            "3\n",
            "4\n",
            "5\n",
            "6\n",
            "7\n",
            "8\n",
            "9\n",
            "10\n",
            "11\n",
            "12\n"
          ]
        }
      ]
    },
    {
      "cell_type": "markdown",
      "source": [
        "**nditer Method:**"
      ],
      "metadata": {
        "id": "t7nIYcsnuJi7"
      }
    },
    {
      "cell_type": "code",
      "source": [
        "arr = np.array([[[1,2,3],[4,5,6]],[[7,8,9],[10,11,12]]])\n",
        "for x in np.nditer(arr):\n",
        "  print(x)\n"
      ],
      "metadata": {
        "colab": {
          "base_uri": "https://localhost:8080/"
        },
        "id": "tBRw6I5ruCUE",
        "outputId": "aa23ebb5-6ab3-4fd9-9441-0eeb26c503b4"
      },
      "execution_count": 33,
      "outputs": [
        {
          "output_type": "stream",
          "name": "stdout",
          "text": [
            "1\n",
            "2\n",
            "3\n",
            "4\n",
            "5\n",
            "6\n",
            "7\n",
            "8\n",
            "9\n",
            "10\n",
            "11\n",
            "12\n"
          ]
        }
      ]
    },
    {
      "cell_type": "markdown",
      "source": [
        "**Enumerated Iteration Using ndenumerate()**\n",
        "\n",
        "Enumeration means mentioning sequence number of somethings one by one.\n",
        "\n",
        "Sometimes we require corresponding index of the element while iterating, the ndenumerate() method can be used for those usecases."
      ],
      "metadata": {
        "id": "lNQpkLAjwIAk"
      }
    },
    {
      "cell_type": "code",
      "source": [
        "arr = np.array([1, 2, 3])\n",
        "\n",
        "for idx, x in np.ndenumerate(arr):\n",
        "  print(idx, x)"
      ],
      "metadata": {
        "colab": {
          "base_uri": "https://localhost:8080/"
        },
        "id": "E8sMO59guSRn",
        "outputId": "aafd2fae-50b2-48ae-8633-996cf4725164"
      },
      "execution_count": 34,
      "outputs": [
        {
          "output_type": "stream",
          "name": "stdout",
          "text": [
            "(0,) 1\n",
            "(1,) 2\n",
            "(2,) 3\n"
          ]
        }
      ]
    },
    {
      "cell_type": "code",
      "source": [
        "arr = np.array([[1, 2, 3, 4], [5, 6, 7, 8]])\n",
        "\n",
        "for idx, x in np.ndenumerate(arr):\n",
        "  print(idx, x)"
      ],
      "metadata": {
        "colab": {
          "base_uri": "https://localhost:8080/"
        },
        "id": "yoAdsrDbwNWF",
        "outputId": "787abbf2-8f1e-4eb5-a7ff-40387098fd02"
      },
      "execution_count": 35,
      "outputs": [
        {
          "output_type": "stream",
          "name": "stdout",
          "text": [
            "(0, 0) 1\n",
            "(0, 1) 2\n",
            "(0, 2) 3\n",
            "(0, 3) 4\n",
            "(1, 0) 5\n",
            "(1, 1) 6\n",
            "(1, 2) 7\n",
            "(1, 3) 8\n"
          ]
        }
      ]
    },
    {
      "cell_type": "markdown",
      "source": [
        "**Iterating Array With Different Data Types**\n",
        "\n",
        "We can use op_dtypes argument and pass it the expected datatype to change the datatype of elements while iterating.\n",
        "\n",
        "NumPy does not change the data type of the element in-place (where the element is in array) so it needs some other space to perform this action, that extra space is called buffer, and in order to enable it in nditer() we pass flags=['buffered']."
      ],
      "metadata": {
        "id": "FGpRgt6Iwaj2"
      }
    },
    {
      "cell_type": "code",
      "source": [
        "arr = np.array([1, 2, 3])\n",
        "\n",
        "for x in np.nditer(arr, flags=[\"buffered\"], op_dtypes='S'):\n",
        "  print(x)"
      ],
      "metadata": {
        "colab": {
          "base_uri": "https://localhost:8080/"
        },
        "id": "bJswgb1DwRkK",
        "outputId": "7792abbd-3d94-4431-8773-0320ed2dc2c7"
      },
      "execution_count": 36,
      "outputs": [
        {
          "output_type": "stream",
          "name": "stdout",
          "text": [
            "b'1'\n",
            "b'2'\n",
            "b'3'\n"
          ]
        }
      ]
    },
    {
      "cell_type": "markdown",
      "source": [
        "**Joining Array**"
      ],
      "metadata": {
        "id": "A0ek-Uon_G0E"
      }
    },
    {
      "cell_type": "markdown",
      "source": [
        "Joining means putting contents of two or more arrays in a single array.\n",
        "\n",
        "In SQL we join tables based on a key, whereas in NumPy we join arrays by axes.\n",
        "\n",
        "We pass a sequence of arrays that we want to join to the concatenate() function, along with the axis. If axis is not explicitly passed, it is taken as 0."
      ],
      "metadata": {
        "id": "kfTcyYq4_UIh"
      }
    },
    {
      "cell_type": "code",
      "source": [
        "arr1 = np.array([1,2,3,4])\n",
        "arr2 = np.array([5,6,7,8])\n",
        "\n",
        "arr = np.concatenate((arr1,arr2))\n",
        "print(arr)"
      ],
      "metadata": {
        "colab": {
          "base_uri": "https://localhost:8080/"
        },
        "id": "5kdHo_eWw7Yk",
        "outputId": "ee90564f-77e2-44c7-b3fe-72cf714f01e5"
      },
      "execution_count": 37,
      "outputs": [
        {
          "output_type": "stream",
          "name": "stdout",
          "text": [
            "[1 2 3 4 5 6 7 8]\n"
          ]
        }
      ]
    },
    {
      "cell_type": "code",
      "source": [
        "arr1 = np.array([[1, 2], [3, 4]])\n",
        "arr2 = np.array([[5, 6], [7, 8]])\n",
        "\n",
        "arr = np.concatenate((arr1, arr2),axis = 1)\n",
        "print(arr)"
      ],
      "metadata": {
        "colab": {
          "base_uri": "https://localhost:8080/"
        },
        "id": "NyI1bPSV_rsu",
        "outputId": "bbe78116-565e-4113-9051-1380f57223f8"
      },
      "execution_count": 38,
      "outputs": [
        {
          "output_type": "stream",
          "name": "stdout",
          "text": [
            "[[1 2 5 6]\n",
            " [3 4 7 8]]\n"
          ]
        }
      ]
    },
    {
      "cell_type": "markdown",
      "source": [
        "Joining Arrays Using Stack Functions\n",
        "\n",
        "Stacking is same as concatenation, the only difference is that stacking is done along a new axis.\n",
        "\n",
        "We can concatenate two 1-D arrays along the second axis which would result in putting them one over the other, ie. stacking.\n",
        "\n",
        "We pass a sequence of arrays that we want to join to the stack() method along with the axis. If axis is not explicitly passed it is taken as 0."
      ],
      "metadata": {
        "id": "Dhpl7lRqALwN"
      }
    },
    {
      "cell_type": "code",
      "source": [
        "arr1 = np.array([1, 2, 3])\n",
        "arr2 = np.array([4, 5, 6])\n",
        "\n",
        "arr = np.stack((arr1, arr2), axis=1)\n",
        "print(arr)"
      ],
      "metadata": {
        "colab": {
          "base_uri": "https://localhost:8080/"
        },
        "id": "seLFgqzK_wvQ",
        "outputId": "15facaee-3cde-4f36-bb89-1ad7b0a82b5f"
      },
      "execution_count": 39,
      "outputs": [
        {
          "output_type": "stream",
          "name": "stdout",
          "text": [
            "[[1 4]\n",
            " [2 5]\n",
            " [3 6]]\n"
          ]
        }
      ]
    },
    {
      "cell_type": "code",
      "source": [
        "#NumPy provides a helper function: hstack() to stack along rows.\n",
        "\n",
        "arr1 = np.array([1, 2, 3])\n",
        "arr2 = np.array([4, 5, 6])\n",
        "\n",
        "arr = np.hstack((arr1, arr2))\n",
        "print(arr)"
      ],
      "metadata": {
        "colab": {
          "base_uri": "https://localhost:8080/"
        },
        "id": "lkfG_1AWARWR",
        "outputId": "bba8c1bf-0303-4f06-a2f8-523cfd43d105"
      },
      "execution_count": 40,
      "outputs": [
        {
          "output_type": "stream",
          "name": "stdout",
          "text": [
            "[1 2 3 4 5 6]\n"
          ]
        }
      ]
    },
    {
      "cell_type": "code",
      "source": [
        "#NumPy provides a helper function: vstack()  to stack along columns.\n",
        "\n",
        "arr1 = np.array([1,2,3,4])\n",
        "arr2 = np.array([5,6,7,8])\n",
        "\n",
        "arr = np.vstack((arr1,arr2))\n",
        "print(arr)"
      ],
      "metadata": {
        "colab": {
          "base_uri": "https://localhost:8080/"
        },
        "id": "SQXC-w76Ag89",
        "outputId": "0b43681e-4b33-4eef-fbe5-b885ddd96c04"
      },
      "execution_count": 41,
      "outputs": [
        {
          "output_type": "stream",
          "name": "stdout",
          "text": [
            "[[1 2 3 4]\n",
            " [5 6 7 8]]\n"
          ]
        }
      ]
    },
    {
      "cell_type": "code",
      "source": [
        "#NumPy provides a helper function: dstack() to stack along height, which is the same as depth.\n",
        "\n",
        "arr1 = np.array([1,2,3,4])\n",
        "arr2 = np.array([5,6,7,8])\n",
        "\n",
        "arr = np.dstack((arr1,arr2))\n",
        "print(arr)"
      ],
      "metadata": {
        "colab": {
          "base_uri": "https://localhost:8080/"
        },
        "id": "X1SuuReiA7Ex",
        "outputId": "9375c2ab-308f-4c19-81ac-8c5ae3952947"
      },
      "execution_count": 42,
      "outputs": [
        {
          "output_type": "stream",
          "name": "stdout",
          "text": [
            "[[[1 5]\n",
            "  [2 6]\n",
            "  [3 7]\n",
            "  [4 8]]]\n"
          ]
        }
      ]
    },
    {
      "cell_type": "markdown",
      "source": [
        "**Splitting NumPy Arrays**\n",
        "\n",
        "Splitting is reverse operation of Joining.\n",
        "\n",
        "Joining merges multiple arrays into one and Splitting breaks one array into multiple.\n",
        "\n",
        "We use array_split() for splitting arrays, we pass it the array we want to split and the number of splits."
      ],
      "metadata": {
        "id": "mreE9PlvF1JI"
      }
    },
    {
      "cell_type": "code",
      "source": [
        "arr = np.array([1,2,3,4,5,6])\n",
        "\n",
        "x = np.array_split(arr,3)\n",
        "print(x)"
      ],
      "metadata": {
        "id": "hmHLafVRBJW4",
        "colab": {
          "base_uri": "https://localhost:8080/"
        },
        "outputId": "c2a5018b-139c-4df4-866a-b19b18a82e77"
      },
      "execution_count": 43,
      "outputs": [
        {
          "output_type": "stream",
          "name": "stdout",
          "text": [
            "[array([1, 2]), array([3, 4]), array([5, 6])]\n"
          ]
        }
      ]
    },
    {
      "cell_type": "code",
      "source": [
        "print(x[0])\n",
        "print(x[1])\n",
        "print(x[2])"
      ],
      "metadata": {
        "colab": {
          "base_uri": "https://localhost:8080/"
        },
        "id": "zIXEQj1gGM8Z",
        "outputId": "f2b22f7e-76a3-4dc3-d32e-6595662c6d39"
      },
      "execution_count": 44,
      "outputs": [
        {
          "output_type": "stream",
          "name": "stdout",
          "text": [
            "[1 2]\n",
            "[3 4]\n",
            "[5 6]\n"
          ]
        }
      ]
    },
    {
      "cell_type": "markdown",
      "source": [
        "**Search**"
      ],
      "metadata": {
        "id": "YPLlbr5tGxHF"
      }
    },
    {
      "cell_type": "code",
      "source": [
        "arr = np.array([1, 2, 3, 4, 5, 6, 7, 8])\n",
        "x = np.where(arr%2 == 0)\n",
        "print(x)"
      ],
      "metadata": {
        "colab": {
          "base_uri": "https://localhost:8080/"
        },
        "id": "Lam96LlvGQfl",
        "outputId": "c860920c-ea51-4ca9-b8d7-34c194c70554"
      },
      "execution_count": 45,
      "outputs": [
        {
          "output_type": "stream",
          "name": "stdout",
          "text": [
            "(array([1, 3, 5, 7]),)\n"
          ]
        }
      ]
    },
    {
      "cell_type": "code",
      "source": [
        "arr = np.array([1, 2, 3, 4, 5, 6, 5, 8])\n",
        "\n",
        "x = np.searchsorted(arr, 5)\n",
        "print(x)"
      ],
      "metadata": {
        "colab": {
          "base_uri": "https://localhost:8080/"
        },
        "id": "2wihZ5lZG0vh",
        "outputId": "3509fabb-f787-4b88-d079-9835cec67399"
      },
      "execution_count": 46,
      "outputs": [
        {
          "output_type": "stream",
          "name": "stdout",
          "text": [
            "4\n"
          ]
        }
      ]
    },
    {
      "cell_type": "markdown",
      "source": [
        "**Sort**"
      ],
      "metadata": {
        "id": "Vd32RwTiHcdk"
      }
    },
    {
      "cell_type": "code",
      "source": [
        "arr = np.array([[3, 2, 4], [5, 0, 1]])\n",
        "print(np.sort(arr))"
      ],
      "metadata": {
        "colab": {
          "base_uri": "https://localhost:8080/"
        },
        "id": "vgpq4zfmG6Jn",
        "outputId": "e2681bfa-a9c0-4397-8178-53a5dc5b2cc4"
      },
      "execution_count": 47,
      "outputs": [
        {
          "output_type": "stream",
          "name": "stdout",
          "text": [
            "[[2 3 4]\n",
            " [0 1 5]]\n"
          ]
        }
      ]
    },
    {
      "cell_type": "markdown",
      "source": [
        "**Filter Array**\n",
        "\n",
        "Filter array for printing even numbers"
      ],
      "metadata": {
        "id": "9uSUn7mYInQx"
      }
    },
    {
      "cell_type": "code",
      "source": [
        "arr = np.array([1,2,3,4,5,6,7,8,9])\n",
        "\n",
        "filter_Arr = []\n",
        "\n",
        "for i in arr:\n",
        "  if i%2 == 0:\n",
        "    filter_Arr.append(True)\n",
        "  else:\n",
        "    filter_Arr.append(False)\n",
        "print(filter_Arr)\n",
        "\n",
        "newArr = arr[filter_Arr]\n",
        "\n",
        "print(newArr)"
      ],
      "metadata": {
        "colab": {
          "base_uri": "https://localhost:8080/"
        },
        "id": "tZgGmbZTHfki",
        "outputId": "fa6d5b80-83c8-4d6c-e5d4-c055aa218124"
      },
      "execution_count": 48,
      "outputs": [
        {
          "output_type": "stream",
          "name": "stdout",
          "text": [
            "[False, True, False, True, False, True, False, True, False]\n",
            "[2 4 6 8]\n"
          ]
        }
      ]
    },
    {
      "cell_type": "code",
      "source": [
        "arr = np.array([1,2,3,4,5,6,7,8,9])\n",
        "filter_Arr = arr%2 == 0\n",
        "\n",
        "newArr = arr[filter_Arr]\n",
        "print(newArr)"
      ],
      "metadata": {
        "colab": {
          "base_uri": "https://localhost:8080/"
        },
        "id": "95xK6uItJsgh",
        "outputId": "0c899ad5-5419-4636-a3b0-8cc15278c74c"
      },
      "execution_count": 49,
      "outputs": [
        {
          "output_type": "stream",
          "name": "stdout",
          "text": [
            "[2 4 6 8]\n"
          ]
        }
      ]
    },
    {
      "cell_type": "code",
      "source": [],
      "metadata": {
        "id": "qQwbPhW5KwBH"
      },
      "execution_count": 49,
      "outputs": []
    }
  ]
}